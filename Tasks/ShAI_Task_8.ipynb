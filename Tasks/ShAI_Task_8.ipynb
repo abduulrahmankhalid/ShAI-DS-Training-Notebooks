{
  "cells": [
    {
      "cell_type": "markdown",
      "metadata": {
        "id": "uua1wvw7iQB4"
      },
      "source": [
        "![](logo1.jpg)"
      ]
    },
    {
      "cell_type": "markdown",
      "metadata": {
        "id": "IMnWC3LuifEi"
      },
      "source": [
        "# **shAI Training 2023 | Level 1**\n",
        "\n",
        "## Task #8 (End-to-End ML Project {part_2})"
      ]
    },
    {
      "cell_type": "markdown",
      "metadata": {
        "id": "1rbe_ZnKi-uY"
      },
      "source": [
        "## Welcome to the exercises for reviewing second part of end to end ML project.\n",
        "**Make sure that you read and understand ch2 from the hands-on ML book (page 72 to the end of the chapter ) before start with this notebook.**\n",
        "\n",
        "**If you stuck with anything reread that part from the book and feel free to ask about anything in the messenger group as you go along.**\n",
        "\n",
        " ## Good Luck : )"
      ]
    },
    {
      "cell_type": "markdown",
      "metadata": {
        "id": "zAbRZ0fwfOb4"
      },
      "source": [
        "## first run the following cell for the first part of the project to continue your work "
      ]
    },
    {
      "cell_type": "code",
      "execution_count": null,
      "metadata": {
        "id": "Q3v160SJfL7U"
      },
      "outputs": [],
      "source": [
        "import numpy as np\n",
        "import pandas as pd\n",
        "import matplotlib.pyplot as plt\n",
        "%matplotlib inline \n",
        "import seaborn as sns\n",
        "from sklearn.model_selection import train_test_split\n",
        "from pandas.plotting import scatter_matrix\n",
        "from sklearn.impute import SimpleImputer\n",
        "from sklearn.preprocessing import OneHotEncoder\n",
        "from sklearn.base import BaseEstimator, TransformerMixin\n",
        "from sklearn.pipeline import Pipeline\n",
        "from sklearn.preprocessing import StandardScaler\n",
        "from sklearn.compose import ColumnTransformer"
      ]
    },
    {
      "cell_type": "code",
      "execution_count": null,
      "metadata": {
        "id": "ObbhNRgSfu6_"
      },
      "outputs": [],
      "source": [
        "import os\n",
        "import tarfile\n",
        "import urllib\n",
        "DOWNLOAD_ROOT = \"https://raw.githubusercontent.com/ageron/handson-ml2/master/\"\n",
        "HOUSING_PATH = os.path.join(\"datasets\", \"housing\")\n",
        "HOUSING_URL = DOWNLOAD_ROOT + \"datasets/housing/housing.tgz\"\n",
        "\n",
        "def fetch_housing_data(housing_url=HOUSING_URL, housing_path=HOUSING_PATH):\n",
        "    os.makedirs(housing_path, exist_ok=True)\n",
        "    tgz_path = os.path.join(housing_path, \"housing.tgz\")\n",
        "    urllib.request.urlretrieve(housing_url, tgz_path)\n",
        "    housing_tgz = tarfile.open(tgz_path)\n",
        "    housing_tgz.extractall(path=housing_path)\n",
        "    housing_tgz.close()\n",
        "    \n",
        "def load_housing_data(housing_path=HOUSING_PATH):\n",
        "   csv_path = os.path.join(housing_path, \"housing.csv\")\n",
        "   return pd.read_csv(csv_path)\n",
        "   \n",
        "fetch_housing_data()\n",
        "housing = load_housing_data()\n",
        "\n",
        "rooms_ix, bedrooms_ix, population_ix, household_ix = [\n",
        "    list(housing.columns).index(col)\n",
        "    for col in (\"total_rooms\", \"total_bedrooms\", \"population\", \"households\")]\n",
        "\n",
        "class CombinedAttributesAdder(BaseEstimator, TransformerMixin):\n",
        "    def __init__(self, add_bedrooms_per_room = True):\n",
        "        self.add_bedrooms_per_room = add_bedrooms_per_room\n",
        "    def fit(self, X, y=None):\n",
        "        return self  # nothing else to do\n",
        "    def transform(self, X, y=None):\n",
        "        rooms_per_household = X[:, rooms_ix] / X[:, household_ix]\n",
        "        population_per_household = X[:, population_ix] / X[:, household_ix]\n",
        "        if self.add_bedrooms_per_room:\n",
        "            bedrooms_per_room = X[:, bedrooms_ix] / X[:, rooms_ix]\n",
        "            return np.c_[X, rooms_per_household, population_per_household,\n",
        "                         bedrooms_per_room]\n",
        "        else:\n",
        "            return np.c_[X, rooms_per_household, population_per_household]\n",
        "        \n",
        "train_set, test_set = train_test_split(housing, test_size=0.2, random_state=42)\n",
        "housing = train_set.drop(\"median_house_value\", axis=1)\n",
        "housing_labels = train_set[\"median_house_value\"].copy()\n",
        "\n",
        "housing_num = housing.drop(\"ocean_proximity\", axis=1)\n",
        "num_attribs = list(housing_num)\n",
        "cat_attribs = [\"ocean_proximity\"]\n",
        "\n",
        "num_pipeline = Pipeline([\n",
        " ('imputer', SimpleImputer(strategy=\"median\")),\n",
        " ('attribs_adder', CombinedAttributesAdder()),\n",
        " ('std_scaler', StandardScaler())])\n",
        "\n",
        "full_pipeline = ColumnTransformer([\n",
        " (\"num\", num_pipeline, num_attribs),\n",
        " (\"cat\", OneHotEncoder(), cat_attribs)])\n",
        "\n",
        "housing_prepared = full_pipeline.fit_transform(housing)"
      ]
    },
    {
      "cell_type": "markdown",
      "metadata": {
        "id": "wa6vPfm6jxsF"
      },
      "source": [
        "# 1- Select and Train a Model\n",
        "\n",
        "# Let’s first train a LinearRegression model "
      ]
    },
    {
      "cell_type": "code",
      "execution_count": null,
      "metadata": {
        "id": "JCl0ZYDRjGz_",
        "outputId": "4cb2912b-284e-455f-bc8b-4a6fd8b9b953",
        "colab": {
          "base_uri": "https://localhost:8080/",
          "height": 258
        }
      },
      "outputs": [
        {
          "output_type": "execute_result",
          "data": {
            "text/plain": [
              "Pipeline(steps=[('columntransformer',\n",
              "                 ColumnTransformer(transformers=[('num',\n",
              "                                                  Pipeline(steps=[('imputer',\n",
              "                                                                   SimpleImputer(strategy='median')),\n",
              "                                                                  ('attribs_adder',\n",
              "                                                                   CombinedAttributesAdder()),\n",
              "                                                                  ('std_scaler',\n",
              "                                                                   StandardScaler())]),\n",
              "                                                  ['longitude', 'latitude',\n",
              "                                                   'housing_median_age',\n",
              "                                                   'total_rooms',\n",
              "                                                   'total_bedrooms',\n",
              "                                                   'population', 'households',\n",
              "                                                   'median_income']),\n",
              "                                                 ('cat', OneHotEncoder(),\n",
              "                                                  ['ocean_proximity'])])),\n",
              "                ('linearregression', LinearRegression())])"
            ],
            "text/html": [
              "<style>#sk-container-id-17 {color: black;background-color: white;}#sk-container-id-17 pre{padding: 0;}#sk-container-id-17 div.sk-toggleable {background-color: white;}#sk-container-id-17 label.sk-toggleable__label {cursor: pointer;display: block;width: 100%;margin-bottom: 0;padding: 0.3em;box-sizing: border-box;text-align: center;}#sk-container-id-17 label.sk-toggleable__label-arrow:before {content: \"▸\";float: left;margin-right: 0.25em;color: #696969;}#sk-container-id-17 label.sk-toggleable__label-arrow:hover:before {color: black;}#sk-container-id-17 div.sk-estimator:hover label.sk-toggleable__label-arrow:before {color: black;}#sk-container-id-17 div.sk-toggleable__content {max-height: 0;max-width: 0;overflow: hidden;text-align: left;background-color: #f0f8ff;}#sk-container-id-17 div.sk-toggleable__content pre {margin: 0.2em;color: black;border-radius: 0.25em;background-color: #f0f8ff;}#sk-container-id-17 input.sk-toggleable__control:checked~div.sk-toggleable__content {max-height: 200px;max-width: 100%;overflow: auto;}#sk-container-id-17 input.sk-toggleable__control:checked~label.sk-toggleable__label-arrow:before {content: \"▾\";}#sk-container-id-17 div.sk-estimator input.sk-toggleable__control:checked~label.sk-toggleable__label {background-color: #d4ebff;}#sk-container-id-17 div.sk-label input.sk-toggleable__control:checked~label.sk-toggleable__label {background-color: #d4ebff;}#sk-container-id-17 input.sk-hidden--visually {border: 0;clip: rect(1px 1px 1px 1px);clip: rect(1px, 1px, 1px, 1px);height: 1px;margin: -1px;overflow: hidden;padding: 0;position: absolute;width: 1px;}#sk-container-id-17 div.sk-estimator {font-family: monospace;background-color: #f0f8ff;border: 1px dotted black;border-radius: 0.25em;box-sizing: border-box;margin-bottom: 0.5em;}#sk-container-id-17 div.sk-estimator:hover {background-color: #d4ebff;}#sk-container-id-17 div.sk-parallel-item::after {content: \"\";width: 100%;border-bottom: 1px solid gray;flex-grow: 1;}#sk-container-id-17 div.sk-label:hover label.sk-toggleable__label {background-color: #d4ebff;}#sk-container-id-17 div.sk-serial::before {content: \"\";position: absolute;border-left: 1px solid gray;box-sizing: border-box;top: 0;bottom: 0;left: 50%;z-index: 0;}#sk-container-id-17 div.sk-serial {display: flex;flex-direction: column;align-items: center;background-color: white;padding-right: 0.2em;padding-left: 0.2em;position: relative;}#sk-container-id-17 div.sk-item {position: relative;z-index: 1;}#sk-container-id-17 div.sk-parallel {display: flex;align-items: stretch;justify-content: center;background-color: white;position: relative;}#sk-container-id-17 div.sk-item::before, #sk-container-id-17 div.sk-parallel-item::before {content: \"\";position: absolute;border-left: 1px solid gray;box-sizing: border-box;top: 0;bottom: 0;left: 50%;z-index: -1;}#sk-container-id-17 div.sk-parallel-item {display: flex;flex-direction: column;z-index: 1;position: relative;background-color: white;}#sk-container-id-17 div.sk-parallel-item:first-child::after {align-self: flex-end;width: 50%;}#sk-container-id-17 div.sk-parallel-item:last-child::after {align-self: flex-start;width: 50%;}#sk-container-id-17 div.sk-parallel-item:only-child::after {width: 0;}#sk-container-id-17 div.sk-dashed-wrapped {border: 1px dashed gray;margin: 0 0.4em 0.5em 0.4em;box-sizing: border-box;padding-bottom: 0.4em;background-color: white;}#sk-container-id-17 div.sk-label label {font-family: monospace;font-weight: bold;display: inline-block;line-height: 1.2em;}#sk-container-id-17 div.sk-label-container {text-align: center;}#sk-container-id-17 div.sk-container {/* jupyter's `normalize.less` sets `[hidden] { display: none; }` but bootstrap.min.css set `[hidden] { display: none !important; }` so we also need the `!important` here to be able to override the default hidden behavior on the sphinx rendered scikit-learn.org. See: https://github.com/scikit-learn/scikit-learn/issues/21755 */display: inline-block !important;position: relative;}#sk-container-id-17 div.sk-text-repr-fallback {display: none;}</style><div id=\"sk-container-id-17\" class=\"sk-top-container\"><div class=\"sk-text-repr-fallback\"><pre>Pipeline(steps=[(&#x27;columntransformer&#x27;,\n",
              "                 ColumnTransformer(transformers=[(&#x27;num&#x27;,\n",
              "                                                  Pipeline(steps=[(&#x27;imputer&#x27;,\n",
              "                                                                   SimpleImputer(strategy=&#x27;median&#x27;)),\n",
              "                                                                  (&#x27;attribs_adder&#x27;,\n",
              "                                                                   CombinedAttributesAdder()),\n",
              "                                                                  (&#x27;std_scaler&#x27;,\n",
              "                                                                   StandardScaler())]),\n",
              "                                                  [&#x27;longitude&#x27;, &#x27;latitude&#x27;,\n",
              "                                                   &#x27;housing_median_age&#x27;,\n",
              "                                                   &#x27;total_rooms&#x27;,\n",
              "                                                   &#x27;total_bedrooms&#x27;,\n",
              "                                                   &#x27;population&#x27;, &#x27;households&#x27;,\n",
              "                                                   &#x27;median_income&#x27;]),\n",
              "                                                 (&#x27;cat&#x27;, OneHotEncoder(),\n",
              "                                                  [&#x27;ocean_proximity&#x27;])])),\n",
              "                (&#x27;linearregression&#x27;, LinearRegression())])</pre><b>In a Jupyter environment, please rerun this cell to show the HTML representation or trust the notebook. <br />On GitHub, the HTML representation is unable to render, please try loading this page with nbviewer.org.</b></div><div class=\"sk-container\" hidden><div class=\"sk-item sk-dashed-wrapped\"><div class=\"sk-label-container\"><div class=\"sk-label sk-toggleable\"><input class=\"sk-toggleable__control sk-hidden--visually\" id=\"sk-estimator-id-147\" type=\"checkbox\" ><label for=\"sk-estimator-id-147\" class=\"sk-toggleable__label sk-toggleable__label-arrow\">Pipeline</label><div class=\"sk-toggleable__content\"><pre>Pipeline(steps=[(&#x27;columntransformer&#x27;,\n",
              "                 ColumnTransformer(transformers=[(&#x27;num&#x27;,\n",
              "                                                  Pipeline(steps=[(&#x27;imputer&#x27;,\n",
              "                                                                   SimpleImputer(strategy=&#x27;median&#x27;)),\n",
              "                                                                  (&#x27;attribs_adder&#x27;,\n",
              "                                                                   CombinedAttributesAdder()),\n",
              "                                                                  (&#x27;std_scaler&#x27;,\n",
              "                                                                   StandardScaler())]),\n",
              "                                                  [&#x27;longitude&#x27;, &#x27;latitude&#x27;,\n",
              "                                                   &#x27;housing_median_age&#x27;,\n",
              "                                                   &#x27;total_rooms&#x27;,\n",
              "                                                   &#x27;total_bedrooms&#x27;,\n",
              "                                                   &#x27;population&#x27;, &#x27;households&#x27;,\n",
              "                                                   &#x27;median_income&#x27;]),\n",
              "                                                 (&#x27;cat&#x27;, OneHotEncoder(),\n",
              "                                                  [&#x27;ocean_proximity&#x27;])])),\n",
              "                (&#x27;linearregression&#x27;, LinearRegression())])</pre></div></div></div><div class=\"sk-serial\"><div class=\"sk-item sk-dashed-wrapped\"><div class=\"sk-label-container\"><div class=\"sk-label sk-toggleable\"><input class=\"sk-toggleable__control sk-hidden--visually\" id=\"sk-estimator-id-148\" type=\"checkbox\" ><label for=\"sk-estimator-id-148\" class=\"sk-toggleable__label sk-toggleable__label-arrow\">columntransformer: ColumnTransformer</label><div class=\"sk-toggleable__content\"><pre>ColumnTransformer(transformers=[(&#x27;num&#x27;,\n",
              "                                 Pipeline(steps=[(&#x27;imputer&#x27;,\n",
              "                                                  SimpleImputer(strategy=&#x27;median&#x27;)),\n",
              "                                                 (&#x27;attribs_adder&#x27;,\n",
              "                                                  CombinedAttributesAdder()),\n",
              "                                                 (&#x27;std_scaler&#x27;,\n",
              "                                                  StandardScaler())]),\n",
              "                                 [&#x27;longitude&#x27;, &#x27;latitude&#x27;, &#x27;housing_median_age&#x27;,\n",
              "                                  &#x27;total_rooms&#x27;, &#x27;total_bedrooms&#x27;, &#x27;population&#x27;,\n",
              "                                  &#x27;households&#x27;, &#x27;median_income&#x27;]),\n",
              "                                (&#x27;cat&#x27;, OneHotEncoder(), [&#x27;ocean_proximity&#x27;])])</pre></div></div></div><div class=\"sk-parallel\"><div class=\"sk-parallel-item\"><div class=\"sk-item\"><div class=\"sk-label-container\"><div class=\"sk-label sk-toggleable\"><input class=\"sk-toggleable__control sk-hidden--visually\" id=\"sk-estimator-id-149\" type=\"checkbox\" ><label for=\"sk-estimator-id-149\" class=\"sk-toggleable__label sk-toggleable__label-arrow\">num</label><div class=\"sk-toggleable__content\"><pre>[&#x27;longitude&#x27;, &#x27;latitude&#x27;, &#x27;housing_median_age&#x27;, &#x27;total_rooms&#x27;, &#x27;total_bedrooms&#x27;, &#x27;population&#x27;, &#x27;households&#x27;, &#x27;median_income&#x27;]</pre></div></div></div><div class=\"sk-serial\"><div class=\"sk-item\"><div class=\"sk-serial\"><div class=\"sk-item\"><div class=\"sk-estimator sk-toggleable\"><input class=\"sk-toggleable__control sk-hidden--visually\" id=\"sk-estimator-id-150\" type=\"checkbox\" ><label for=\"sk-estimator-id-150\" class=\"sk-toggleable__label sk-toggleable__label-arrow\">SimpleImputer</label><div class=\"sk-toggleable__content\"><pre>SimpleImputer(strategy=&#x27;median&#x27;)</pre></div></div></div><div class=\"sk-item\"><div class=\"sk-estimator sk-toggleable\"><input class=\"sk-toggleable__control sk-hidden--visually\" id=\"sk-estimator-id-151\" type=\"checkbox\" ><label for=\"sk-estimator-id-151\" class=\"sk-toggleable__label sk-toggleable__label-arrow\">CombinedAttributesAdder</label><div class=\"sk-toggleable__content\"><pre>CombinedAttributesAdder()</pre></div></div></div><div class=\"sk-item\"><div class=\"sk-estimator sk-toggleable\"><input class=\"sk-toggleable__control sk-hidden--visually\" id=\"sk-estimator-id-152\" type=\"checkbox\" ><label for=\"sk-estimator-id-152\" class=\"sk-toggleable__label sk-toggleable__label-arrow\">StandardScaler</label><div class=\"sk-toggleable__content\"><pre>StandardScaler()</pre></div></div></div></div></div></div></div></div><div class=\"sk-parallel-item\"><div class=\"sk-item\"><div class=\"sk-label-container\"><div class=\"sk-label sk-toggleable\"><input class=\"sk-toggleable__control sk-hidden--visually\" id=\"sk-estimator-id-153\" type=\"checkbox\" ><label for=\"sk-estimator-id-153\" class=\"sk-toggleable__label sk-toggleable__label-arrow\">cat</label><div class=\"sk-toggleable__content\"><pre>[&#x27;ocean_proximity&#x27;]</pre></div></div></div><div class=\"sk-serial\"><div class=\"sk-item\"><div class=\"sk-estimator sk-toggleable\"><input class=\"sk-toggleable__control sk-hidden--visually\" id=\"sk-estimator-id-154\" type=\"checkbox\" ><label for=\"sk-estimator-id-154\" class=\"sk-toggleable__label sk-toggleable__label-arrow\">OneHotEncoder</label><div class=\"sk-toggleable__content\"><pre>OneHotEncoder()</pre></div></div></div></div></div></div></div></div><div class=\"sk-item\"><div class=\"sk-estimator sk-toggleable\"><input class=\"sk-toggleable__control sk-hidden--visually\" id=\"sk-estimator-id-155\" type=\"checkbox\" ><label for=\"sk-estimator-id-155\" class=\"sk-toggleable__label sk-toggleable__label-arrow\">LinearRegression</label><div class=\"sk-toggleable__content\"><pre>LinearRegression()</pre></div></div></div></div></div></div></div>"
            ]
          },
          "metadata": {},
          "execution_count": 178
        }
      ],
      "source": [
        "# CODE HERE\n",
        "from sklearn.pipeline import make_pipeline\n",
        "from sklearn.linear_model import LinearRegression\n",
        "\n",
        "lin_reg = make_pipeline(full_pipeline, LinearRegression())\n",
        "\n",
        "lin_reg.fit(housing, housing_labels)"
      ]
    },
    {
      "cell_type": "markdown",
      "metadata": {
        "id": "_nDxOY7GmTNc"
      },
      "source": [
        "# First try it out on a few instances from the training set:\n"
      ]
    },
    {
      "cell_type": "code",
      "execution_count": null,
      "metadata": {
        "id": "7Lx7VQm7pwSQ",
        "outputId": "63d72bbe-49d7-42b9-b7e5-cffcaf035d28",
        "colab": {
          "base_uri": "https://localhost:8080/"
        }
      },
      "outputs": [
        {
          "output_type": "execute_result",
          "data": {
            "text/plain": [
              "14196    103000.0\n",
              "8267     382100.0\n",
              "17445    172600.0\n",
              "14265     93400.0\n",
              "2271      96500.0\n",
              "Name: median_house_value, dtype: float64"
            ]
          },
          "metadata": {},
          "execution_count": 179
        }
      ],
      "source": [
        "some_data = housing.iloc[:5]\n",
        "some_labels = housing_labels.iloc[:5]\n",
        "some_labels"
      ]
    },
    {
      "cell_type": "code",
      "execution_count": null,
      "metadata": {
        "id": "BU-ynaaIpYHO",
        "outputId": "b1c3e53c-c55c-4716-ba85-f5e000cbe282",
        "colab": {
          "base_uri": "https://localhost:8080/"
        }
      },
      "outputs": [
        {
          "output_type": "execute_result",
          "data": {
            "text/plain": [
              "array([181746.54359616, 290558.74973505, 244957.50017771, 146498.51061398,\n",
              "       163230.42393939])"
            ]
          },
          "metadata": {},
          "execution_count": 180
        }
      ],
      "source": [
        "# CODE HERE\n",
        "lin_reg.predict(some_data)"
      ]
    },
    {
      "cell_type": "code",
      "source": [
        "housing_predictions = lin_reg.predict(housing)"
      ],
      "metadata": {
        "id": "NRms-CH6-qSu"
      },
      "execution_count": null,
      "outputs": []
    },
    {
      "cell_type": "markdown",
      "metadata": {
        "id": "QjmwxoU-qFnb"
      },
      "source": [
        "# measure this regression model’s RMSE on the whole training set \n",
        "* sing Scikit-Learn’s mean_squared_error() function:"
      ]
    },
    {
      "cell_type": "code",
      "execution_count": null,
      "metadata": {
        "id": "rczx22dFqRMc"
      },
      "outputs": [],
      "source": [
        "# CODE HERE\n",
        "\n",
        "from sklearn.metrics import mean_squared_error\n",
        "\n",
        "lin_rmse = mean_squared_error(housing_labels, housing_predictions, squared = False)"
      ]
    },
    {
      "cell_type": "code",
      "execution_count": null,
      "metadata": {
        "id": "aCYZh9ExqWMJ",
        "outputId": "9e8a41aa-4b39-4e42-a42f-deb4be1b8406",
        "colab": {
          "base_uri": "https://localhost:8080/"
        }
      },
      "outputs": [
        {
          "output_type": "execute_result",
          "data": {
            "text/plain": [
              "67593.20745775253"
            ]
          },
          "metadata": {},
          "execution_count": 183
        }
      ],
      "source": [
        "lin_rmse"
      ]
    },
    {
      "cell_type": "markdown",
      "metadata": {
        "id": "RLsKfuQpcfyx"
      },
      "source": [
        "# judge on the RMSE result for this model \n",
        "write down your answar "
      ]
    },
    {
      "cell_type": "markdown",
      "metadata": {
        "id": "nnBVcR-MeFqa"
      },
      "source": [
        "the rmse is not small, the model is underfitting the training data"
      ]
    },
    {
      "cell_type": "markdown",
      "metadata": {
        "id": "vImNak3CqqFo"
      },
      "source": [
        "# Let’s train a Decision Tree Regressor model \n",
        "## more powerful model"
      ]
    },
    {
      "cell_type": "code",
      "execution_count": null,
      "metadata": {
        "id": "8syfCBveqY2q"
      },
      "outputs": [],
      "source": [
        "from sklearn.tree import DecisionTreeRegressor "
      ]
    },
    {
      "cell_type": "code",
      "execution_count": null,
      "metadata": {
        "id": "vrUPZzBhq-do",
        "outputId": "91805b48-e129-467c-f994-2ebe91481809",
        "colab": {
          "base_uri": "https://localhost:8080/",
          "height": 258
        }
      },
      "outputs": [
        {
          "output_type": "execute_result",
          "data": {
            "text/plain": [
              "Pipeline(steps=[('columntransformer',\n",
              "                 ColumnTransformer(transformers=[('num',\n",
              "                                                  Pipeline(steps=[('imputer',\n",
              "                                                                   SimpleImputer(strategy='median')),\n",
              "                                                                  ('attribs_adder',\n",
              "                                                                   CombinedAttributesAdder()),\n",
              "                                                                  ('std_scaler',\n",
              "                                                                   StandardScaler())]),\n",
              "                                                  ['longitude', 'latitude',\n",
              "                                                   'housing_median_age',\n",
              "                                                   'total_rooms',\n",
              "                                                   'total_bedrooms',\n",
              "                                                   'population', 'households',\n",
              "                                                   'median_income']),\n",
              "                                                 ('cat', OneHotEncoder(),\n",
              "                                                  ['ocean_proximity'])])),\n",
              "                ('decisiontreeregressor',\n",
              "                 DecisionTreeRegressor(random_state=42))])"
            ],
            "text/html": [
              "<style>#sk-container-id-18 {color: black;background-color: white;}#sk-container-id-18 pre{padding: 0;}#sk-container-id-18 div.sk-toggleable {background-color: white;}#sk-container-id-18 label.sk-toggleable__label {cursor: pointer;display: block;width: 100%;margin-bottom: 0;padding: 0.3em;box-sizing: border-box;text-align: center;}#sk-container-id-18 label.sk-toggleable__label-arrow:before {content: \"▸\";float: left;margin-right: 0.25em;color: #696969;}#sk-container-id-18 label.sk-toggleable__label-arrow:hover:before {color: black;}#sk-container-id-18 div.sk-estimator:hover label.sk-toggleable__label-arrow:before {color: black;}#sk-container-id-18 div.sk-toggleable__content {max-height: 0;max-width: 0;overflow: hidden;text-align: left;background-color: #f0f8ff;}#sk-container-id-18 div.sk-toggleable__content pre {margin: 0.2em;color: black;border-radius: 0.25em;background-color: #f0f8ff;}#sk-container-id-18 input.sk-toggleable__control:checked~div.sk-toggleable__content {max-height: 200px;max-width: 100%;overflow: auto;}#sk-container-id-18 input.sk-toggleable__control:checked~label.sk-toggleable__label-arrow:before {content: \"▾\";}#sk-container-id-18 div.sk-estimator input.sk-toggleable__control:checked~label.sk-toggleable__label {background-color: #d4ebff;}#sk-container-id-18 div.sk-label input.sk-toggleable__control:checked~label.sk-toggleable__label {background-color: #d4ebff;}#sk-container-id-18 input.sk-hidden--visually {border: 0;clip: rect(1px 1px 1px 1px);clip: rect(1px, 1px, 1px, 1px);height: 1px;margin: -1px;overflow: hidden;padding: 0;position: absolute;width: 1px;}#sk-container-id-18 div.sk-estimator {font-family: monospace;background-color: #f0f8ff;border: 1px dotted black;border-radius: 0.25em;box-sizing: border-box;margin-bottom: 0.5em;}#sk-container-id-18 div.sk-estimator:hover {background-color: #d4ebff;}#sk-container-id-18 div.sk-parallel-item::after {content: \"\";width: 100%;border-bottom: 1px solid gray;flex-grow: 1;}#sk-container-id-18 div.sk-label:hover label.sk-toggleable__label {background-color: #d4ebff;}#sk-container-id-18 div.sk-serial::before {content: \"\";position: absolute;border-left: 1px solid gray;box-sizing: border-box;top: 0;bottom: 0;left: 50%;z-index: 0;}#sk-container-id-18 div.sk-serial {display: flex;flex-direction: column;align-items: center;background-color: white;padding-right: 0.2em;padding-left: 0.2em;position: relative;}#sk-container-id-18 div.sk-item {position: relative;z-index: 1;}#sk-container-id-18 div.sk-parallel {display: flex;align-items: stretch;justify-content: center;background-color: white;position: relative;}#sk-container-id-18 div.sk-item::before, #sk-container-id-18 div.sk-parallel-item::before {content: \"\";position: absolute;border-left: 1px solid gray;box-sizing: border-box;top: 0;bottom: 0;left: 50%;z-index: -1;}#sk-container-id-18 div.sk-parallel-item {display: flex;flex-direction: column;z-index: 1;position: relative;background-color: white;}#sk-container-id-18 div.sk-parallel-item:first-child::after {align-self: flex-end;width: 50%;}#sk-container-id-18 div.sk-parallel-item:last-child::after {align-self: flex-start;width: 50%;}#sk-container-id-18 div.sk-parallel-item:only-child::after {width: 0;}#sk-container-id-18 div.sk-dashed-wrapped {border: 1px dashed gray;margin: 0 0.4em 0.5em 0.4em;box-sizing: border-box;padding-bottom: 0.4em;background-color: white;}#sk-container-id-18 div.sk-label label {font-family: monospace;font-weight: bold;display: inline-block;line-height: 1.2em;}#sk-container-id-18 div.sk-label-container {text-align: center;}#sk-container-id-18 div.sk-container {/* jupyter's `normalize.less` sets `[hidden] { display: none; }` but bootstrap.min.css set `[hidden] { display: none !important; }` so we also need the `!important` here to be able to override the default hidden behavior on the sphinx rendered scikit-learn.org. See: https://github.com/scikit-learn/scikit-learn/issues/21755 */display: inline-block !important;position: relative;}#sk-container-id-18 div.sk-text-repr-fallback {display: none;}</style><div id=\"sk-container-id-18\" class=\"sk-top-container\"><div class=\"sk-text-repr-fallback\"><pre>Pipeline(steps=[(&#x27;columntransformer&#x27;,\n",
              "                 ColumnTransformer(transformers=[(&#x27;num&#x27;,\n",
              "                                                  Pipeline(steps=[(&#x27;imputer&#x27;,\n",
              "                                                                   SimpleImputer(strategy=&#x27;median&#x27;)),\n",
              "                                                                  (&#x27;attribs_adder&#x27;,\n",
              "                                                                   CombinedAttributesAdder()),\n",
              "                                                                  (&#x27;std_scaler&#x27;,\n",
              "                                                                   StandardScaler())]),\n",
              "                                                  [&#x27;longitude&#x27;, &#x27;latitude&#x27;,\n",
              "                                                   &#x27;housing_median_age&#x27;,\n",
              "                                                   &#x27;total_rooms&#x27;,\n",
              "                                                   &#x27;total_bedrooms&#x27;,\n",
              "                                                   &#x27;population&#x27;, &#x27;households&#x27;,\n",
              "                                                   &#x27;median_income&#x27;]),\n",
              "                                                 (&#x27;cat&#x27;, OneHotEncoder(),\n",
              "                                                  [&#x27;ocean_proximity&#x27;])])),\n",
              "                (&#x27;decisiontreeregressor&#x27;,\n",
              "                 DecisionTreeRegressor(random_state=42))])</pre><b>In a Jupyter environment, please rerun this cell to show the HTML representation or trust the notebook. <br />On GitHub, the HTML representation is unable to render, please try loading this page with nbviewer.org.</b></div><div class=\"sk-container\" hidden><div class=\"sk-item sk-dashed-wrapped\"><div class=\"sk-label-container\"><div class=\"sk-label sk-toggleable\"><input class=\"sk-toggleable__control sk-hidden--visually\" id=\"sk-estimator-id-156\" type=\"checkbox\" ><label for=\"sk-estimator-id-156\" class=\"sk-toggleable__label sk-toggleable__label-arrow\">Pipeline</label><div class=\"sk-toggleable__content\"><pre>Pipeline(steps=[(&#x27;columntransformer&#x27;,\n",
              "                 ColumnTransformer(transformers=[(&#x27;num&#x27;,\n",
              "                                                  Pipeline(steps=[(&#x27;imputer&#x27;,\n",
              "                                                                   SimpleImputer(strategy=&#x27;median&#x27;)),\n",
              "                                                                  (&#x27;attribs_adder&#x27;,\n",
              "                                                                   CombinedAttributesAdder()),\n",
              "                                                                  (&#x27;std_scaler&#x27;,\n",
              "                                                                   StandardScaler())]),\n",
              "                                                  [&#x27;longitude&#x27;, &#x27;latitude&#x27;,\n",
              "                                                   &#x27;housing_median_age&#x27;,\n",
              "                                                   &#x27;total_rooms&#x27;,\n",
              "                                                   &#x27;total_bedrooms&#x27;,\n",
              "                                                   &#x27;population&#x27;, &#x27;households&#x27;,\n",
              "                                                   &#x27;median_income&#x27;]),\n",
              "                                                 (&#x27;cat&#x27;, OneHotEncoder(),\n",
              "                                                  [&#x27;ocean_proximity&#x27;])])),\n",
              "                (&#x27;decisiontreeregressor&#x27;,\n",
              "                 DecisionTreeRegressor(random_state=42))])</pre></div></div></div><div class=\"sk-serial\"><div class=\"sk-item sk-dashed-wrapped\"><div class=\"sk-label-container\"><div class=\"sk-label sk-toggleable\"><input class=\"sk-toggleable__control sk-hidden--visually\" id=\"sk-estimator-id-157\" type=\"checkbox\" ><label for=\"sk-estimator-id-157\" class=\"sk-toggleable__label sk-toggleable__label-arrow\">columntransformer: ColumnTransformer</label><div class=\"sk-toggleable__content\"><pre>ColumnTransformer(transformers=[(&#x27;num&#x27;,\n",
              "                                 Pipeline(steps=[(&#x27;imputer&#x27;,\n",
              "                                                  SimpleImputer(strategy=&#x27;median&#x27;)),\n",
              "                                                 (&#x27;attribs_adder&#x27;,\n",
              "                                                  CombinedAttributesAdder()),\n",
              "                                                 (&#x27;std_scaler&#x27;,\n",
              "                                                  StandardScaler())]),\n",
              "                                 [&#x27;longitude&#x27;, &#x27;latitude&#x27;, &#x27;housing_median_age&#x27;,\n",
              "                                  &#x27;total_rooms&#x27;, &#x27;total_bedrooms&#x27;, &#x27;population&#x27;,\n",
              "                                  &#x27;households&#x27;, &#x27;median_income&#x27;]),\n",
              "                                (&#x27;cat&#x27;, OneHotEncoder(), [&#x27;ocean_proximity&#x27;])])</pre></div></div></div><div class=\"sk-parallel\"><div class=\"sk-parallel-item\"><div class=\"sk-item\"><div class=\"sk-label-container\"><div class=\"sk-label sk-toggleable\"><input class=\"sk-toggleable__control sk-hidden--visually\" id=\"sk-estimator-id-158\" type=\"checkbox\" ><label for=\"sk-estimator-id-158\" class=\"sk-toggleable__label sk-toggleable__label-arrow\">num</label><div class=\"sk-toggleable__content\"><pre>[&#x27;longitude&#x27;, &#x27;latitude&#x27;, &#x27;housing_median_age&#x27;, &#x27;total_rooms&#x27;, &#x27;total_bedrooms&#x27;, &#x27;population&#x27;, &#x27;households&#x27;, &#x27;median_income&#x27;]</pre></div></div></div><div class=\"sk-serial\"><div class=\"sk-item\"><div class=\"sk-serial\"><div class=\"sk-item\"><div class=\"sk-estimator sk-toggleable\"><input class=\"sk-toggleable__control sk-hidden--visually\" id=\"sk-estimator-id-159\" type=\"checkbox\" ><label for=\"sk-estimator-id-159\" class=\"sk-toggleable__label sk-toggleable__label-arrow\">SimpleImputer</label><div class=\"sk-toggleable__content\"><pre>SimpleImputer(strategy=&#x27;median&#x27;)</pre></div></div></div><div class=\"sk-item\"><div class=\"sk-estimator sk-toggleable\"><input class=\"sk-toggleable__control sk-hidden--visually\" id=\"sk-estimator-id-160\" type=\"checkbox\" ><label for=\"sk-estimator-id-160\" class=\"sk-toggleable__label sk-toggleable__label-arrow\">CombinedAttributesAdder</label><div class=\"sk-toggleable__content\"><pre>CombinedAttributesAdder()</pre></div></div></div><div class=\"sk-item\"><div class=\"sk-estimator sk-toggleable\"><input class=\"sk-toggleable__control sk-hidden--visually\" id=\"sk-estimator-id-161\" type=\"checkbox\" ><label for=\"sk-estimator-id-161\" class=\"sk-toggleable__label sk-toggleable__label-arrow\">StandardScaler</label><div class=\"sk-toggleable__content\"><pre>StandardScaler()</pre></div></div></div></div></div></div></div></div><div class=\"sk-parallel-item\"><div class=\"sk-item\"><div class=\"sk-label-container\"><div class=\"sk-label sk-toggleable\"><input class=\"sk-toggleable__control sk-hidden--visually\" id=\"sk-estimator-id-162\" type=\"checkbox\" ><label for=\"sk-estimator-id-162\" class=\"sk-toggleable__label sk-toggleable__label-arrow\">cat</label><div class=\"sk-toggleable__content\"><pre>[&#x27;ocean_proximity&#x27;]</pre></div></div></div><div class=\"sk-serial\"><div class=\"sk-item\"><div class=\"sk-estimator sk-toggleable\"><input class=\"sk-toggleable__control sk-hidden--visually\" id=\"sk-estimator-id-163\" type=\"checkbox\" ><label for=\"sk-estimator-id-163\" class=\"sk-toggleable__label sk-toggleable__label-arrow\">OneHotEncoder</label><div class=\"sk-toggleable__content\"><pre>OneHotEncoder()</pre></div></div></div></div></div></div></div></div><div class=\"sk-item\"><div class=\"sk-estimator sk-toggleable\"><input class=\"sk-toggleable__control sk-hidden--visually\" id=\"sk-estimator-id-164\" type=\"checkbox\" ><label for=\"sk-estimator-id-164\" class=\"sk-toggleable__label sk-toggleable__label-arrow\">DecisionTreeRegressor</label><div class=\"sk-toggleable__content\"><pre>DecisionTreeRegressor(random_state=42)</pre></div></div></div></div></div></div></div>"
            ]
          },
          "metadata": {},
          "execution_count": 185
        }
      ],
      "source": [
        "# CODE HERE\n",
        "\n",
        "tree_reg = make_pipeline(full_pipeline, DecisionTreeRegressor(random_state=42))\n",
        "\n",
        "tree_reg.fit(housing, housing_labels)"
      ]
    },
    {
      "cell_type": "markdown",
      "metadata": {
        "id": "kRhxYj0Aq9op"
      },
      "source": [
        "# Now evaluate the model on the training set \n",
        "* using Scikit-Learn’s mean_squared_error() function:"
      ]
    },
    {
      "cell_type": "code",
      "execution_count": null,
      "metadata": {
        "id": "DYCxUSCkrNIY",
        "outputId": "989896a8-c33d-4325-9a2d-1f6d587eb566",
        "colab": {
          "base_uri": "https://localhost:8080/"
        }
      },
      "outputs": [
        {
          "output_type": "execute_result",
          "data": {
            "text/plain": [
              "0.0"
            ]
          },
          "metadata": {},
          "execution_count": 186
        }
      ],
      "source": [
        "# CODE HERE\n",
        "\n",
        "housing_predictions = tree_reg.predict(housing)\n",
        "\n",
        "tree_rmse = mean_squared_error(housing_labels, housing_predictions,squared=False)\n",
        "\n",
        "tree_rmse"
      ]
    },
    {
      "cell_type": "markdown",
      "metadata": {
        "id": "CSxXI9b8iZPs"
      },
      "source": [
        "# Explaine this result \n",
        "write down your answar"
      ]
    },
    {
      "cell_type": "markdown",
      "metadata": {
        "id": "BVSMQ7kbiZSi"
      },
      "source": [
        "the decision tree overfitted the data, so the rmse is 0"
      ]
    },
    {
      "cell_type": "markdown",
      "metadata": {
        "id": "rj7b4zSPrdyH"
      },
      "source": [
        "# Evaluation Using Cross-Validation\n",
        "\n",
        "1-split the training set into 10 distinct subsets then train and evaluate the Decision Tree model"
      ]
    },
    {
      "cell_type": "code",
      "execution_count": null,
      "metadata": {
        "id": "JmNrgsBrwIe3"
      },
      "outputs": [],
      "source": [
        "from sklearn.model_selection import cross_val_score"
      ]
    },
    {
      "cell_type": "code",
      "execution_count": null,
      "metadata": {
        "id": "yXNPsWjcwMd_"
      },
      "outputs": [],
      "source": [
        "# CODE HERE\n",
        "\n",
        "tree_rmses = -cross_val_score(tree_reg, housing, housing_labels , scoring='neg_root_mean_squared_error' , cv=10)"
      ]
    },
    {
      "cell_type": "markdown",
      "metadata": {
        "id": "KqReIY3urLP8"
      },
      "source": [
        "2- display the resultant scores and calculate its Mean and Standard deviation"
      ]
    },
    {
      "cell_type": "code",
      "execution_count": null,
      "metadata": {
        "id": "1g8jIq-6raVF",
        "outputId": "6a9e40ec-d90c-4c1e-bf86-6217d4917313",
        "colab": {
          "base_uri": "https://localhost:8080/"
        }
      },
      "outputs": [
        {
          "output_type": "execute_result",
          "data": {
            "text/plain": [
              "count       10.000000\n",
              "mean     68893.687971\n",
              "std       2652.947532\n",
              "min      65312.211113\n",
              "25%      67219.522970\n",
              "50%      68574.758465\n",
              "75%      70415.073385\n",
              "max      73925.150554\n",
              "dtype: float64"
            ]
          },
          "metadata": {},
          "execution_count": 189
        }
      ],
      "source": [
        "# CODE HERE\n",
        "\n",
        "pd.Series(tree_rmses).describe()"
      ]
    },
    {
      "cell_type": "markdown",
      "metadata": {
        "id": "G6paGk_hsGGY"
      },
      "source": [
        "3-repaet the same steps to compute the same scores for the Linear Regression  model \n",
        "\n",
        "*notice the difference between the results of the two models*"
      ]
    },
    {
      "cell_type": "code",
      "execution_count": null,
      "metadata": {
        "id": "ol3C6DmusWfx"
      },
      "outputs": [],
      "source": [
        "# CODE HERE\n",
        "lin_rmses = -cross_val_score(lin_reg, housing, housing_labels , scoring='neg_root_mean_squared_error' , cv=10)"
      ]
    },
    {
      "cell_type": "code",
      "source": [
        "pd.Series(lin_rmses).describe()"
      ],
      "metadata": {
        "id": "p3IDB6NK_xm6",
        "outputId": "103d4f93-e15f-4bf7-e9d2-5f61168bda91",
        "colab": {
          "base_uri": "https://localhost:8080/"
        }
      },
      "execution_count": null,
      "outputs": [
        {
          "output_type": "execute_result",
          "data": {
            "text/plain": [
              "count       10.000000\n",
              "mean     67828.386774\n",
              "std       2601.596761\n",
              "min      65000.673826\n",
              "25%      65472.168399\n",
              "50%      67762.593108\n",
              "75%      68849.373294\n",
              "max      72739.875560\n",
              "dtype: float64"
            ]
          },
          "metadata": {},
          "execution_count": 191
        }
      ]
    },
    {
      "cell_type": "markdown",
      "metadata": {
        "id": "fdQ85uTEtDy1"
      },
      "source": [
        "## Let’s train one last model the RandomForestRegressor."
      ]
    },
    {
      "cell_type": "code",
      "execution_count": null,
      "metadata": {
        "id": "O1PPFq5TtdDP"
      },
      "outputs": [],
      "source": [
        "# CODE HERE\n",
        "\n",
        "from sklearn.ensemble import RandomForestRegressor\n",
        "\n",
        "forest_reg = make_pipeline(full_pipeline, RandomForestRegressor(random_state=42))\n",
        "\n",
        "forest_rmses = -cross_val_score(forest_reg, housing, housing_labels, scoring=\"neg_root_mean_squared_error\", cv=10)"
      ]
    },
    {
      "cell_type": "markdown",
      "metadata": {
        "id": "gSxaBthCtw93"
      },
      "source": [
        "# repeat the same steps to compute the same scores its Mean and Standard deviation for the Random Forest model"
      ]
    },
    {
      "cell_type": "code",
      "execution_count": null,
      "metadata": {
        "id": "AAc2MOQwt2lC",
        "outputId": "39b12f67-3c4a-4e8e-917e-bdd11b4791eb",
        "colab": {
          "base_uri": "https://localhost:8080/"
        }
      },
      "outputs": [
        {
          "output_type": "execute_result",
          "data": {
            "text/plain": [
              "count       10.000000\n",
              "mean     49682.765146\n",
              "std       2030.717612\n",
              "min      47014.394040\n",
              "25%      47755.304303\n",
              "50%      49753.603087\n",
              "75%      51381.992160\n",
              "max      52777.365636\n",
              "dtype: float64"
            ]
          },
          "metadata": {},
          "execution_count": 193
        }
      ],
      "source": [
        "# CODE HERE\n",
        "pd.Series(forest_rmses).describe()"
      ]
    },
    {
      "cell_type": "markdown",
      "metadata": {
        "id": "Vn2u9DOxvE5S"
      },
      "source": [
        "# Save every model you experiment with \n",
        "*using the joblib library*"
      ]
    },
    {
      "cell_type": "code",
      "execution_count": null,
      "metadata": {
        "id": "mWyIi3mtva85",
        "outputId": "9d16179f-edbe-4304-8e1a-1fbf7dde5a2d",
        "colab": {
          "base_uri": "https://localhost:8080/"
        }
      },
      "outputs": [
        {
          "output_type": "execute_result",
          "data": {
            "text/plain": [
              "['tree_housing_model.pkl']"
            ]
          },
          "metadata": {},
          "execution_count": 194
        }
      ],
      "source": [
        "# CODE HERE\n",
        "import joblib\n",
        "\n",
        "joblib.dump(lin_reg, \"lin_housing_model.pkl\")\n",
        "\n",
        "joblib.dump(tree_reg, \"tree_housing_model.pkl\")"
      ]
    },
    {
      "cell_type": "markdown",
      "metadata": {
        "id": "gIC6O-h0wOBJ"
      },
      "source": [
        "## now you have a shortlist of promising models. You now need to\n",
        "## fine-tune them!\n",
        "# Fine-Tune Your Model\n",
        "\n",
        "## 1- Grid Search\n",
        "## evaluate all the possible combinations of hyperparameter values for the RandomForestRegressor \n",
        "*It may take a long time*"
      ]
    },
    {
      "cell_type": "code",
      "execution_count": null,
      "metadata": {
        "id": "Y8Wqd-Pix3Sm"
      },
      "outputs": [],
      "source": [
        "from sklearn.model_selection import GridSearchCV"
      ]
    },
    {
      "cell_type": "code",
      "execution_count": null,
      "metadata": {
        "id": "j-zNvGLhyGGb",
        "outputId": "be2df432-20b5-45ec-b53b-6a194b9c8a6e",
        "colab": {
          "base_uri": "https://localhost:8080/",
          "height": 307
        }
      },
      "outputs": [
        {
          "output_type": "execute_result",
          "data": {
            "text/plain": [
              "GridSearchCV(cv=3,\n",
              "             estimator=Pipeline(steps=[('preprocessing',\n",
              "                                        ColumnTransformer(transformers=[('num',\n",
              "                                                                         Pipeline(steps=[('imputer',\n",
              "                                                                                          SimpleImputer(strategy='median')),\n",
              "                                                                                         ('attribs_adder',\n",
              "                                                                                          CombinedAttributesAdder()),\n",
              "                                                                                         ('std_scaler',\n",
              "                                                                                          StandardScaler())]),\n",
              "                                                                         ['longitude',\n",
              "                                                                          'latitude',\n",
              "                                                                          'housing_median_age',\n",
              "                                                                          'total_rooms',\n",
              "                                                                          'total_bedrooms',\n",
              "                                                                          'population',\n",
              "                                                                          'households',\n",
              "                                                                          'median_income']),\n",
              "                                                                        ('cat',\n",
              "                                                                         OneHotEncoder(),\n",
              "                                                                         ['ocean_proximity'])])),\n",
              "                                       ('random_forest',\n",
              "                                        RandomForestRegressor(random_state=42))]),\n",
              "             param_grid=[{'random_forest__max_features': [4, 6, 8]},\n",
              "                         {'random_forest__max_features': [6, 8, 10]}],\n",
              "             scoring='neg_root_mean_squared_error')"
            ],
            "text/html": [
              "<style>#sk-container-id-19 {color: black;background-color: white;}#sk-container-id-19 pre{padding: 0;}#sk-container-id-19 div.sk-toggleable {background-color: white;}#sk-container-id-19 label.sk-toggleable__label {cursor: pointer;display: block;width: 100%;margin-bottom: 0;padding: 0.3em;box-sizing: border-box;text-align: center;}#sk-container-id-19 label.sk-toggleable__label-arrow:before {content: \"▸\";float: left;margin-right: 0.25em;color: #696969;}#sk-container-id-19 label.sk-toggleable__label-arrow:hover:before {color: black;}#sk-container-id-19 div.sk-estimator:hover label.sk-toggleable__label-arrow:before {color: black;}#sk-container-id-19 div.sk-toggleable__content {max-height: 0;max-width: 0;overflow: hidden;text-align: left;background-color: #f0f8ff;}#sk-container-id-19 div.sk-toggleable__content pre {margin: 0.2em;color: black;border-radius: 0.25em;background-color: #f0f8ff;}#sk-container-id-19 input.sk-toggleable__control:checked~div.sk-toggleable__content {max-height: 200px;max-width: 100%;overflow: auto;}#sk-container-id-19 input.sk-toggleable__control:checked~label.sk-toggleable__label-arrow:before {content: \"▾\";}#sk-container-id-19 div.sk-estimator input.sk-toggleable__control:checked~label.sk-toggleable__label {background-color: #d4ebff;}#sk-container-id-19 div.sk-label input.sk-toggleable__control:checked~label.sk-toggleable__label {background-color: #d4ebff;}#sk-container-id-19 input.sk-hidden--visually {border: 0;clip: rect(1px 1px 1px 1px);clip: rect(1px, 1px, 1px, 1px);height: 1px;margin: -1px;overflow: hidden;padding: 0;position: absolute;width: 1px;}#sk-container-id-19 div.sk-estimator {font-family: monospace;background-color: #f0f8ff;border: 1px dotted black;border-radius: 0.25em;box-sizing: border-box;margin-bottom: 0.5em;}#sk-container-id-19 div.sk-estimator:hover {background-color: #d4ebff;}#sk-container-id-19 div.sk-parallel-item::after {content: \"\";width: 100%;border-bottom: 1px solid gray;flex-grow: 1;}#sk-container-id-19 div.sk-label:hover label.sk-toggleable__label {background-color: #d4ebff;}#sk-container-id-19 div.sk-serial::before {content: \"\";position: absolute;border-left: 1px solid gray;box-sizing: border-box;top: 0;bottom: 0;left: 50%;z-index: 0;}#sk-container-id-19 div.sk-serial {display: flex;flex-direction: column;align-items: center;background-color: white;padding-right: 0.2em;padding-left: 0.2em;position: relative;}#sk-container-id-19 div.sk-item {position: relative;z-index: 1;}#sk-container-id-19 div.sk-parallel {display: flex;align-items: stretch;justify-content: center;background-color: white;position: relative;}#sk-container-id-19 div.sk-item::before, #sk-container-id-19 div.sk-parallel-item::before {content: \"\";position: absolute;border-left: 1px solid gray;box-sizing: border-box;top: 0;bottom: 0;left: 50%;z-index: -1;}#sk-container-id-19 div.sk-parallel-item {display: flex;flex-direction: column;z-index: 1;position: relative;background-color: white;}#sk-container-id-19 div.sk-parallel-item:first-child::after {align-self: flex-end;width: 50%;}#sk-container-id-19 div.sk-parallel-item:last-child::after {align-self: flex-start;width: 50%;}#sk-container-id-19 div.sk-parallel-item:only-child::after {width: 0;}#sk-container-id-19 div.sk-dashed-wrapped {border: 1px dashed gray;margin: 0 0.4em 0.5em 0.4em;box-sizing: border-box;padding-bottom: 0.4em;background-color: white;}#sk-container-id-19 div.sk-label label {font-family: monospace;font-weight: bold;display: inline-block;line-height: 1.2em;}#sk-container-id-19 div.sk-label-container {text-align: center;}#sk-container-id-19 div.sk-container {/* jupyter's `normalize.less` sets `[hidden] { display: none; }` but bootstrap.min.css set `[hidden] { display: none !important; }` so we also need the `!important` here to be able to override the default hidden behavior on the sphinx rendered scikit-learn.org. See: https://github.com/scikit-learn/scikit-learn/issues/21755 */display: inline-block !important;position: relative;}#sk-container-id-19 div.sk-text-repr-fallback {display: none;}</style><div id=\"sk-container-id-19\" class=\"sk-top-container\"><div class=\"sk-text-repr-fallback\"><pre>GridSearchCV(cv=3,\n",
              "             estimator=Pipeline(steps=[(&#x27;preprocessing&#x27;,\n",
              "                                        ColumnTransformer(transformers=[(&#x27;num&#x27;,\n",
              "                                                                         Pipeline(steps=[(&#x27;imputer&#x27;,\n",
              "                                                                                          SimpleImputer(strategy=&#x27;median&#x27;)),\n",
              "                                                                                         (&#x27;attribs_adder&#x27;,\n",
              "                                                                                          CombinedAttributesAdder()),\n",
              "                                                                                         (&#x27;std_scaler&#x27;,\n",
              "                                                                                          StandardScaler())]),\n",
              "                                                                         [&#x27;longitude&#x27;,\n",
              "                                                                          &#x27;latitude&#x27;,\n",
              "                                                                          &#x27;housing_median_age&#x27;,\n",
              "                                                                          &#x27;total_rooms&#x27;,\n",
              "                                                                          &#x27;total_bedrooms&#x27;,\n",
              "                                                                          &#x27;population&#x27;,\n",
              "                                                                          &#x27;households&#x27;,\n",
              "                                                                          &#x27;median_income&#x27;]),\n",
              "                                                                        (&#x27;cat&#x27;,\n",
              "                                                                         OneHotEncoder(),\n",
              "                                                                         [&#x27;ocean_proximity&#x27;])])),\n",
              "                                       (&#x27;random_forest&#x27;,\n",
              "                                        RandomForestRegressor(random_state=42))]),\n",
              "             param_grid=[{&#x27;random_forest__max_features&#x27;: [4, 6, 8]},\n",
              "                         {&#x27;random_forest__max_features&#x27;: [6, 8, 10]}],\n",
              "             scoring=&#x27;neg_root_mean_squared_error&#x27;)</pre><b>In a Jupyter environment, please rerun this cell to show the HTML representation or trust the notebook. <br />On GitHub, the HTML representation is unable to render, please try loading this page with nbviewer.org.</b></div><div class=\"sk-container\" hidden><div class=\"sk-item sk-dashed-wrapped\"><div class=\"sk-label-container\"><div class=\"sk-label sk-toggleable\"><input class=\"sk-toggleable__control sk-hidden--visually\" id=\"sk-estimator-id-165\" type=\"checkbox\" ><label for=\"sk-estimator-id-165\" class=\"sk-toggleable__label sk-toggleable__label-arrow\">GridSearchCV</label><div class=\"sk-toggleable__content\"><pre>GridSearchCV(cv=3,\n",
              "             estimator=Pipeline(steps=[(&#x27;preprocessing&#x27;,\n",
              "                                        ColumnTransformer(transformers=[(&#x27;num&#x27;,\n",
              "                                                                         Pipeline(steps=[(&#x27;imputer&#x27;,\n",
              "                                                                                          SimpleImputer(strategy=&#x27;median&#x27;)),\n",
              "                                                                                         (&#x27;attribs_adder&#x27;,\n",
              "                                                                                          CombinedAttributesAdder()),\n",
              "                                                                                         (&#x27;std_scaler&#x27;,\n",
              "                                                                                          StandardScaler())]),\n",
              "                                                                         [&#x27;longitude&#x27;,\n",
              "                                                                          &#x27;latitude&#x27;,\n",
              "                                                                          &#x27;housing_median_age&#x27;,\n",
              "                                                                          &#x27;total_rooms&#x27;,\n",
              "                                                                          &#x27;total_bedrooms&#x27;,\n",
              "                                                                          &#x27;population&#x27;,\n",
              "                                                                          &#x27;households&#x27;,\n",
              "                                                                          &#x27;median_income&#x27;]),\n",
              "                                                                        (&#x27;cat&#x27;,\n",
              "                                                                         OneHotEncoder(),\n",
              "                                                                         [&#x27;ocean_proximity&#x27;])])),\n",
              "                                       (&#x27;random_forest&#x27;,\n",
              "                                        RandomForestRegressor(random_state=42))]),\n",
              "             param_grid=[{&#x27;random_forest__max_features&#x27;: [4, 6, 8]},\n",
              "                         {&#x27;random_forest__max_features&#x27;: [6, 8, 10]}],\n",
              "             scoring=&#x27;neg_root_mean_squared_error&#x27;)</pre></div></div></div><div class=\"sk-parallel\"><div class=\"sk-parallel-item\"><div class=\"sk-item\"><div class=\"sk-label-container\"><div class=\"sk-label sk-toggleable\"><input class=\"sk-toggleable__control sk-hidden--visually\" id=\"sk-estimator-id-166\" type=\"checkbox\" ><label for=\"sk-estimator-id-166\" class=\"sk-toggleable__label sk-toggleable__label-arrow\">estimator: Pipeline</label><div class=\"sk-toggleable__content\"><pre>Pipeline(steps=[(&#x27;preprocessing&#x27;,\n",
              "                 ColumnTransformer(transformers=[(&#x27;num&#x27;,\n",
              "                                                  Pipeline(steps=[(&#x27;imputer&#x27;,\n",
              "                                                                   SimpleImputer(strategy=&#x27;median&#x27;)),\n",
              "                                                                  (&#x27;attribs_adder&#x27;,\n",
              "                                                                   CombinedAttributesAdder()),\n",
              "                                                                  (&#x27;std_scaler&#x27;,\n",
              "                                                                   StandardScaler())]),\n",
              "                                                  [&#x27;longitude&#x27;, &#x27;latitude&#x27;,\n",
              "                                                   &#x27;housing_median_age&#x27;,\n",
              "                                                   &#x27;total_rooms&#x27;,\n",
              "                                                   &#x27;total_bedrooms&#x27;,\n",
              "                                                   &#x27;population&#x27;, &#x27;households&#x27;,\n",
              "                                                   &#x27;median_income&#x27;]),\n",
              "                                                 (&#x27;cat&#x27;, OneHotEncoder(),\n",
              "                                                  [&#x27;ocean_proximity&#x27;])])),\n",
              "                (&#x27;random_forest&#x27;, RandomForestRegressor(random_state=42))])</pre></div></div></div><div class=\"sk-serial\"><div class=\"sk-item\"><div class=\"sk-serial\"><div class=\"sk-item sk-dashed-wrapped\"><div class=\"sk-label-container\"><div class=\"sk-label sk-toggleable\"><input class=\"sk-toggleable__control sk-hidden--visually\" id=\"sk-estimator-id-167\" type=\"checkbox\" ><label for=\"sk-estimator-id-167\" class=\"sk-toggleable__label sk-toggleable__label-arrow\">preprocessing: ColumnTransformer</label><div class=\"sk-toggleable__content\"><pre>ColumnTransformer(transformers=[(&#x27;num&#x27;,\n",
              "                                 Pipeline(steps=[(&#x27;imputer&#x27;,\n",
              "                                                  SimpleImputer(strategy=&#x27;median&#x27;)),\n",
              "                                                 (&#x27;attribs_adder&#x27;,\n",
              "                                                  CombinedAttributesAdder()),\n",
              "                                                 (&#x27;std_scaler&#x27;,\n",
              "                                                  StandardScaler())]),\n",
              "                                 [&#x27;longitude&#x27;, &#x27;latitude&#x27;, &#x27;housing_median_age&#x27;,\n",
              "                                  &#x27;total_rooms&#x27;, &#x27;total_bedrooms&#x27;, &#x27;population&#x27;,\n",
              "                                  &#x27;households&#x27;, &#x27;median_income&#x27;]),\n",
              "                                (&#x27;cat&#x27;, OneHotEncoder(), [&#x27;ocean_proximity&#x27;])])</pre></div></div></div><div class=\"sk-parallel\"><div class=\"sk-parallel-item\"><div class=\"sk-item\"><div class=\"sk-label-container\"><div class=\"sk-label sk-toggleable\"><input class=\"sk-toggleable__control sk-hidden--visually\" id=\"sk-estimator-id-168\" type=\"checkbox\" ><label for=\"sk-estimator-id-168\" class=\"sk-toggleable__label sk-toggleable__label-arrow\">num</label><div class=\"sk-toggleable__content\"><pre>[&#x27;longitude&#x27;, &#x27;latitude&#x27;, &#x27;housing_median_age&#x27;, &#x27;total_rooms&#x27;, &#x27;total_bedrooms&#x27;, &#x27;population&#x27;, &#x27;households&#x27;, &#x27;median_income&#x27;]</pre></div></div></div><div class=\"sk-serial\"><div class=\"sk-item\"><div class=\"sk-serial\"><div class=\"sk-item\"><div class=\"sk-estimator sk-toggleable\"><input class=\"sk-toggleable__control sk-hidden--visually\" id=\"sk-estimator-id-169\" type=\"checkbox\" ><label for=\"sk-estimator-id-169\" class=\"sk-toggleable__label sk-toggleable__label-arrow\">SimpleImputer</label><div class=\"sk-toggleable__content\"><pre>SimpleImputer(strategy=&#x27;median&#x27;)</pre></div></div></div><div class=\"sk-item\"><div class=\"sk-estimator sk-toggleable\"><input class=\"sk-toggleable__control sk-hidden--visually\" id=\"sk-estimator-id-170\" type=\"checkbox\" ><label for=\"sk-estimator-id-170\" class=\"sk-toggleable__label sk-toggleable__label-arrow\">CombinedAttributesAdder</label><div class=\"sk-toggleable__content\"><pre>CombinedAttributesAdder()</pre></div></div></div><div class=\"sk-item\"><div class=\"sk-estimator sk-toggleable\"><input class=\"sk-toggleable__control sk-hidden--visually\" id=\"sk-estimator-id-171\" type=\"checkbox\" ><label for=\"sk-estimator-id-171\" class=\"sk-toggleable__label sk-toggleable__label-arrow\">StandardScaler</label><div class=\"sk-toggleable__content\"><pre>StandardScaler()</pre></div></div></div></div></div></div></div></div><div class=\"sk-parallel-item\"><div class=\"sk-item\"><div class=\"sk-label-container\"><div class=\"sk-label sk-toggleable\"><input class=\"sk-toggleable__control sk-hidden--visually\" id=\"sk-estimator-id-172\" type=\"checkbox\" ><label for=\"sk-estimator-id-172\" class=\"sk-toggleable__label sk-toggleable__label-arrow\">cat</label><div class=\"sk-toggleable__content\"><pre>[&#x27;ocean_proximity&#x27;]</pre></div></div></div><div class=\"sk-serial\"><div class=\"sk-item\"><div class=\"sk-estimator sk-toggleable\"><input class=\"sk-toggleable__control sk-hidden--visually\" id=\"sk-estimator-id-173\" type=\"checkbox\" ><label for=\"sk-estimator-id-173\" class=\"sk-toggleable__label sk-toggleable__label-arrow\">OneHotEncoder</label><div class=\"sk-toggleable__content\"><pre>OneHotEncoder()</pre></div></div></div></div></div></div></div></div><div class=\"sk-item\"><div class=\"sk-estimator sk-toggleable\"><input class=\"sk-toggleable__control sk-hidden--visually\" id=\"sk-estimator-id-174\" type=\"checkbox\" ><label for=\"sk-estimator-id-174\" class=\"sk-toggleable__label sk-toggleable__label-arrow\">RandomForestRegressor</label><div class=\"sk-toggleable__content\"><pre>RandomForestRegressor(random_state=42)</pre></div></div></div></div></div></div></div></div></div></div></div></div>"
            ]
          },
          "metadata": {},
          "execution_count": 196
        }
      ],
      "source": [
        "# CODE HERE\n",
        "from sklearn.model_selection import GridSearchCV\n",
        "\n",
        "full_pipeline = Pipeline([\n",
        " (\"preprocessing\", full_pipeline),\n",
        " (\"random_forest\",\n",
        "RandomForestRegressor(random_state=42)),\n",
        "])\n",
        "\n",
        "param_grid = [\n",
        " {'random_forest__max_features': [4, 6, 8]},\n",
        " {'random_forest__max_features': [6, 8, 10]},\n",
        "]\n",
        "\n",
        "grid_search = GridSearchCV(full_pipeline, param_grid, cv=3, scoring='neg_root_mean_squared_error')\n",
        "\n",
        "grid_search.fit(housing, housing_labels)"
      ]
    },
    {
      "cell_type": "markdown",
      "metadata": {
        "id": "EhYbsAnE0j75"
      },
      "source": [
        "with the evaluation scores"
      ]
    },
    {
      "cell_type": "code",
      "execution_count": null,
      "metadata": {
        "id": "qhDCrx0Y0ocN",
        "outputId": "0fd79e21-7c59-46e7-d44b-33c92ba0915e",
        "colab": {
          "base_uri": "https://localhost:8080/"
        }
      },
      "outputs": [
        {
          "output_type": "execute_result",
          "data": {
            "text/plain": [
              "{'random_forest__max_features': 8}"
            ]
          },
          "metadata": {},
          "execution_count": 197
        }
      ],
      "source": [
        "# CODE HERE\n",
        "grid_search.best_params_"
      ]
    },
    {
      "cell_type": "code",
      "source": [
        "grid_search.cv_results_"
      ],
      "metadata": {
        "id": "5WStrUFWCZJ_",
        "outputId": "0ce50e78-d5db-4ef8-b0e1-4d45ea44bbd8",
        "colab": {
          "base_uri": "https://localhost:8080/"
        }
      },
      "execution_count": null,
      "outputs": [
        {
          "output_type": "execute_result",
          "data": {
            "text/plain": [
              "{'mean_fit_time': array([ 3.81051461,  5.13343366,  6.63828158,  5.63230189,  6.45716786,\n",
              "        10.16372554]),\n",
              " 'std_fit_time': array([0.41899651, 0.27977162, 0.38083016, 0.09886919, 0.42915952,\n",
              "        2.02239157]),\n",
              " 'mean_score_time': array([0.17188422, 0.17770712, 0.17636228, 0.16940864, 0.16638637,\n",
              "        0.2082382 ]),\n",
              " 'std_score_time': array([0.00311688, 0.02107007, 0.01562258, 0.01047088, 0.00178518,\n",
              "        0.0601224 ]),\n",
              " 'param_random_forest__max_features': masked_array(data=[4, 6, 8, 6, 8, 10],\n",
              "              mask=[False, False, False, False, False, False],\n",
              "        fill_value='?',\n",
              "             dtype=object),\n",
              " 'params': [{'random_forest__max_features': 4},\n",
              "  {'random_forest__max_features': 6},\n",
              "  {'random_forest__max_features': 8},\n",
              "  {'random_forest__max_features': 6},\n",
              "  {'random_forest__max_features': 8},\n",
              "  {'random_forest__max_features': 10}],\n",
              " 'split0_test_score': array([-49591.40923836, -49596.55656636, -49652.53132367, -49596.55656636,\n",
              "        -49652.53132367, -50174.77615797]),\n",
              " 'split1_test_score': array([-49429.41596748, -49369.00938401, -49246.91733771, -49369.00938401,\n",
              "        -49246.91733771, -49468.14474303]),\n",
              " 'split2_test_score': array([-50057.53699996, -50209.58325372, -50043.74880054, -50209.58325372,\n",
              "        -50043.74880054, -50123.42275088]),\n",
              " 'mean_test_score': array([-49692.78740193, -49725.0497347 , -49647.73248731, -49725.0497347 ,\n",
              "        -49647.73248731, -49922.11455063]),\n",
              " 'std_test_score': array([266.26072047, 354.98730338, 325.32277988, 354.98730338,\n",
              "        325.32277988, 321.68901417]),\n",
              " 'rank_test_score': array([3, 4, 1, 4, 1, 6], dtype=int32)}"
            ]
          },
          "metadata": {},
          "execution_count": 198
        }
      ]
    },
    {
      "cell_type": "code",
      "source": [
        "cv_res = pd.DataFrame(grid_search.cv_results_)\n",
        "\n",
        "cv_res.sort_values(by=\"mean_test_score\", ascending=False, inplace=True)"
      ],
      "metadata": {
        "id": "IkmdEKryCcJf"
      },
      "execution_count": null,
      "outputs": []
    },
    {
      "cell_type": "markdown",
      "metadata": {
        "id": "pjRCrlqEyH1A"
      },
      "source": [
        "# Analyze the Best Models and Their Errors\n",
        "1-indicate the relative importance of each attribute"
      ]
    },
    {
      "cell_type": "code",
      "execution_count": null,
      "metadata": {
        "id": "y2MkCD1Byh9F"
      },
      "outputs": [],
      "source": [
        "# CODE HERE\n",
        "final_model = grid_search.best_estimator_ \n",
        "\n",
        "feature_importances = final_model[\"random_forest\"].feature_importances_"
      ]
    },
    {
      "cell_type": "markdown",
      "metadata": {
        "id": "b01L7mUm1xTV"
      },
      "source": [
        "2-display these importance scores next to their corresponding attribute names:"
      ]
    },
    {
      "cell_type": "code",
      "execution_count": null,
      "metadata": {
        "id": "dau43zXt14i7",
        "outputId": "ef82a3dd-bc21-4512-dc2a-b4ec285f185c",
        "colab": {
          "base_uri": "https://localhost:8080/"
        }
      },
      "outputs": [
        {
          "output_type": "execute_result",
          "data": {
            "text/plain": [
              "array([0.07, 0.06, 0.04, 0.01, 0.01, 0.01, 0.01, 0.38, 0.05, 0.11, 0.06,\n",
              "       0.01, 0.16, 0.  , 0.  , 0.  ])"
            ]
          },
          "metadata": {},
          "execution_count": 201
        }
      ],
      "source": [
        "# CODE HERE\n",
        "\n",
        "feature_importances.round(2)"
      ]
    },
    {
      "cell_type": "code",
      "source": [
        "sorted(zip(feature_importances, housing.columns), reverse=True)"
      ],
      "metadata": {
        "id": "M5jQvs3CC5J_",
        "outputId": "b96c874c-bfc8-4877-9caf-1b3fb0d500c6",
        "colab": {
          "base_uri": "https://localhost:8080/"
        }
      },
      "execution_count": null,
      "outputs": [
        {
          "output_type": "execute_result",
          "data": {
            "text/plain": [
              "[(0.37779368093177956, 'median_income'),\n",
              " (0.06776419637846413, 'longitude'),\n",
              " (0.0639286434402403, 'latitude'),\n",
              " (0.050419717570566576, 'ocean_proximity'),\n",
              " (0.04256529997899305, 'housing_median_age'),\n",
              " (0.014739282663824007, 'total_rooms'),\n",
              " (0.014431838912060527, 'total_bedrooms'),\n",
              " (0.014326224034151203, 'population'),\n",
              " (0.013123577144554508, 'households')]"
            ]
          },
          "metadata": {},
          "execution_count": 222
        }
      ]
    },
    {
      "cell_type": "markdown",
      "metadata": {
        "id": "esOPiD6Pyice"
      },
      "source": [
        "## Now is the time to evaluate the final model on the test set.\n",
        "# Evaluate Your System on the Test Set\n",
        "\n",
        "1-get the predictors and the labels from your test set"
      ]
    },
    {
      "cell_type": "code",
      "execution_count": null,
      "metadata": {
        "id": "zfZkM6Riu5wT"
      },
      "outputs": [],
      "source": [
        "# CODE HERE\n",
        "\n",
        "housing_predictors = housing\n",
        "\n",
        "housing_labels = housing_labels"
      ]
    },
    {
      "cell_type": "code",
      "execution_count": null,
      "metadata": {
        "id": "5ofUCVRVu5wT"
      },
      "outputs": [],
      "source": [
        "# CODE HERE\n",
        "from sklearn.model_selection import train_test_split\n",
        "\n",
        "X_train, X_test, y_train, y_test = train_test_split(housing_predictors, housing_labels)"
      ]
    },
    {
      "cell_type": "markdown",
      "metadata": {
        "id": "lhkKu23G2yNd"
      },
      "source": [
        "2-run your full_pipeline to transform the data"
      ]
    },
    {
      "cell_type": "code",
      "execution_count": null,
      "metadata": {
        "id": "VBfW1WG823TE"
      },
      "outputs": [],
      "source": [
        "# CODE HERE\n",
        "final_predictions = final_model.predict(X_test)"
      ]
    },
    {
      "cell_type": "markdown",
      "metadata": {
        "id": "hNVnMSJy28xt"
      },
      "source": [
        "3-evaluate the final model on the test set"
      ]
    },
    {
      "cell_type": "code",
      "execution_count": null,
      "metadata": {
        "id": "HrcgAUoy2_tc",
        "outputId": "91d0559d-c5b0-491f-c1d3-8a5c35bac708",
        "colab": {
          "base_uri": "https://localhost:8080/"
        }
      },
      "outputs": [
        {
          "output_type": "stream",
          "name": "stdout",
          "text": [
            "18181.424578495164\n"
          ]
        }
      ],
      "source": [
        "# CODE HERE\n",
        "final_rmse = mean_squared_error(y_test, final_predictions, squared=False)\n",
        "print(final_rmse) "
      ]
    },
    {
      "cell_type": "markdown",
      "metadata": {
        "id": "wYBxgnsx3Ipr"
      },
      "source": [
        "# compute a 95% confidence interval for the generalization error \n",
        "*using scipy.stats.t.interval():*"
      ]
    },
    {
      "cell_type": "code",
      "execution_count": null,
      "metadata": {
        "id": "ngWpgPrE3NaS"
      },
      "outputs": [],
      "source": [
        "from scipy import stats"
      ]
    },
    {
      "cell_type": "code",
      "execution_count": null,
      "metadata": {
        "id": "6RFaMou83WBY",
        "outputId": "e3058861-e24e-4d10-cd17-18eecb495740",
        "colab": {
          "base_uri": "https://localhost:8080/"
        }
      },
      "outputs": [
        {
          "output_type": "execute_result",
          "data": {
            "text/plain": [
              "array([17334.34626837, 18990.75666884])"
            ]
          },
          "metadata": {},
          "execution_count": 230
        }
      ],
      "source": [
        "# CODE HERE\n",
        "confidence = 0.95\n",
        "\n",
        "squared_errors = (final_predictions - y_test) ** 2\n",
        "\n",
        "np.sqrt( stats.t.interval( confidence, len(squared_errors) - 1, loc = squared_errors.mean() , scale = stats.sem(squared_errors) ) )"
      ]
    },
    {
      "cell_type": "code",
      "source": [],
      "metadata": {
        "id": "ZRJyxKMQDSh2"
      },
      "execution_count": null,
      "outputs": []
    },
    {
      "cell_type": "markdown",
      "metadata": {
        "id": "fTsy6N8Uytpo"
      },
      "source": [
        "# Great Job!\n",
        "# #shAI_Club"
      ]
    }
  ],
  "metadata": {
    "colab": {
      "provenance": []
    },
    "kernelspec": {
      "display_name": "Python 3",
      "language": "python",
      "name": "python3"
    },
    "language_info": {
      "codemirror_mode": {
        "name": "ipython",
        "version": 3
      },
      "file_extension": ".py",
      "mimetype": "text/x-python",
      "name": "python",
      "nbconvert_exporter": "python",
      "pygments_lexer": "ipython3",
      "version": "3.7.9"
    }
  },
  "nbformat": 4,
  "nbformat_minor": 0
}